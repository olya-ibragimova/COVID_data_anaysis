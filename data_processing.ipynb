{
 "cells": [
  {
   "cell_type": "code",
   "execution_count": 1,
   "id": "hungarian-average",
   "metadata": {},
   "outputs": [
    {
     "name": "stderr",
     "output_type": "stream",
     "text": [
      "Matplotlib created a temporary config/cache directory at /var/folders/kn/6vcxdq1n7vx9jw9h7tdw68d00000gp/T/matplotlib-pxnwhfiy because the default path (/Users/oibragim/.matplotlib) is not a writable directory; it is highly recommended to set the MPLCONFIGDIR environment variable to a writable directory, in particular to speed up the import of Matplotlib and to better support multiprocessing.\n"
     ]
    }
   ],
   "source": [
    "# uses python3\n",
    "\n",
    "import numpy as np\n",
    "import pandas as pd\n",
    "import scipy\n",
    "import matplotlib.pyplot as plt \n",
    "from sklearn.linear_model import LinearRegression\n",
    "from scipy.signal import savgol_filter\n",
    "\n",
    "from datetime import datetime, timedelta\n",
    "from datetime import date\n",
    "\n",
    "import warnings\n",
    "warnings.filterwarnings(\"ignore\")\n",
    "\n",
    "font = {'weight' : 'bold',\n",
    "        'size'   : 18}\n",
    "import matplotlib\n",
    "matplotlib.rc('font', **font)"
   ]
  },
  {
   "cell_type": "code",
   "execution_count": 2,
   "id": "sudden-audit",
   "metadata": {},
   "outputs": [],
   "source": [
    "df = pd.read_csv('conposcovidloc.csv')  "
   ]
  },
  {
   "cell_type": "code",
   "execution_count": 3,
   "id": "complimentary-cambridge",
   "metadata": {},
   "outputs": [],
   "source": [
    "# Converting the column to a data format:\n",
    "df['Accurate_Episode_Date'] =  pd.to_datetime(df['Accurate_Episode_Date'])"
   ]
  },
  {
   "cell_type": "code",
   "execution_count": 4,
   "id": "polar-strike",
   "metadata": {},
   "outputs": [],
   "source": [
    "def output_trends(dataframe=df,\n",
    "                  city='Toronto',\n",
    "                  case_resolution='Resolved',\n",
    "                  trend_data=30,\n",
    "                  days_omitted=8):\n",
    "    '''\n",
    "    city -- one of the population_dict cities\n",
    "    case_resolution - \"Resolved\", \"Not Resolved\", \"Fatal\"\n",
    "    trend_data - how many days\n",
    "    days_omitted - how many days do we skip (from today)\n",
    "    '''\n",
    "   \n",
    "    data = df.copy()\n",
    "\n",
    "    # Days:\n",
    "\n",
    "    end_date = date.today() - timedelta(days=days_omitted)\n",
    "    start_date = date.today() - timedelta(days=trend_data+days_omitted)\n",
    "\n",
    "    # Considering only specified range of dates:\n",
    "    df_current = data[data[\"Accurate_Episode_Date\"].isin(\n",
    "        pd.date_range(start_date, end_date))]\n",
    "\n",
    "    # Output df:\n",
    "    df_out = df_current[df_current['Outcome1'] ==\n",
    "                        case_resolution][df_current['Reporting_PHU_City'] == city]\n",
    "    out = df_out.groupby('Accurate_Episode_Date').nunique()\n",
    "    out = out.sort_values(by=['Accurate_Episode_Date'])['Row_ID']\n",
    "\n",
    "    return out"
   ]
  },
  {
   "cell_type": "code",
   "execution_count": 5,
   "id": "miniature-gabriel",
   "metadata": {},
   "outputs": [],
   "source": [
    "def how_many(dataframe=df,\n",
    "             city='Toronto',\n",
    "             trend_data=30,\n",
    "             case_resolution='Resolved',\n",
    "             days_omitted=0):\n",
    "    '''\n",
    "    description\n",
    "    '''\n",
    "    population_dict = {\n",
    "        'Windsor': 336000,\n",
    "        'Barrie': 145614,\n",
    "        'Port Hope': 16753,\n",
    "        'London': 5454141,\n",
    "        'Toronto': 2731571,\n",
    "        'Hamilton': 767000,\n",
    "        'Whitby': 128377,\n",
    "        'Thorold': 21663,\n",
    "        'Newmarket': 90000,\n",
    "        'Cornwall': 46589,\n",
    "        'Oakville': 193832,\n",
    "        'Kingston': 590940,\n",
    "        'Point Edward': 2037,\n",
    "        'Ottawa': 934243,\n",
    "        'Mississauga': 733083,\n",
    "        'Waterloo': 562000,\n",
    "        'Guelph': 120545,\n",
    "        'Stratford': 31500,\n",
    "        'St. Thomas': 38909,\n",
    "        'Chatham': 103700,\n",
    "        'Simcoe': 13922,\n",
    "        'Brantford': 115000,\n",
    "        'Thunder Bay': 121621,\n",
    "        'New Liskeard': 4402,\n",
    "        'Brockville': 21900,\n",
    "        'Peterborough': 202259,\n",
    "        'Timmins': 41788,\n",
    "        'North Bay': 51027,\n",
    "        'Sudbury': 161531,\n",
    "        'Belleville': 50716,\n",
    "        'Pembroke': 15260,\n",
    "        'Sault Ste. Marie': 75528,\n",
    "        'Owen Sound': 21341,\n",
    "        'Kenora': 15696}\n",
    "\n",
    "    data = df.copy()\n",
    "\n",
    "    out = data[data['Reporting_PHU_City'] == city]\n",
    "    out.keys()\n",
    "\n",
    "    # Fatal:\n",
    "    out_fatal = out[out['Outcome1'] == 'Fatal']\n",
    "    out_fatal = out_fatal.groupby('Accurate_Episode_Date').nunique()\n",
    "    num_fatal = np.sum(out_fatal['Row_ID'].to_numpy())\n",
    "\n",
    "    # Resolved:\n",
    "    out_resolved = out[out['Outcome1'] == 'Resolved']\n",
    "    out_resolved = out_resolved.groupby('Accurate_Episode_Date').nunique()\n",
    "    num_resolved = np.sum(out_resolved['Row_ID'].to_numpy())\n",
    "\n",
    "    # Not Resolved:\n",
    "    out_not_resolved = out[out['Outcome1'] == 'Not Resolved']\n",
    "    out_not_resolved = out_not_resolved.groupby(\n",
    "        'Accurate_Episode_Date').nunique()\n",
    "    num_not_resolved = np.sum(out_not_resolved['Row_ID'].to_numpy())\n",
    "\n",
    "    # Got COVID total:\n",
    "    out = out.groupby('Accurate_Episode_Date').nunique()\n",
    "    num_sick = np.sum(out['Row_ID'].to_numpy())\n",
    "\n",
    "    # ---------------------------------------------------------------\n",
    "    # Days:\n",
    "    end_date = date.today() - timedelta(days=days_omitted)\n",
    "    start_date = date.today() - timedelta(days=trend_data+days_omitted)\n",
    "\n",
    "    # Considering only specified range of dates:\n",
    "    df_current = data[data[\"Accurate_Episode_Date\"].isin(\n",
    "        pd.date_range(start_date, end_date))]\n",
    "\n",
    "    # Output df:\n",
    "    df_out = df_current[df_current['Reporting_PHU_City'] == city]\n",
    "\n",
    "    out1 = df_out.groupby('Accurate_Episode_Date').nunique()\n",
    "    num_sick_past = np.sum(out1['Row_ID'].to_numpy())\n",
    "    \n",
    "    # Risk factor:\n",
    "    risk_factor = 100*num_not_resolved*np.power(population_dict[city], 1/3)/(1.8*(population_dict[city]))\n",
    "    \n",
    "    # Print info:\n",
    "\n",
    "    print(\"Destination:\\t\\t\\t\\t{}\".format(city))\n",
    "    print(\"{} population:\\t\\t\\t{:,}\".format(city, population_dict[city]))\n",
    "    print(\"Total number of cases:\\t\\t\\t{:,}\".format(num_sick))\n",
    "    print(\"Total number of fatal cases:\\t\\t{:,}\".format(num_fatal))\n",
    "    print(\"Total number of resolved cases:\\t\\t{:,}\".format(num_resolved))\n",
    "    print(\"Cases for the past {} days:\\t\\t{:,}\".format(\n",
    "        trend_data, num_sick_past))\n",
    "    print(\n",
    "        \"Total number of non-resolved cases:\\t{:,}\".format(num_not_resolved))\n",
    "    print(\"Risk factor:\\t\\t\\t\\t{:.2f}%\".format(risk_factor))\n",
    "    \n",
    "#     return population_dict[city], num_sick, num_fatal, num_resolved, num_sick_past, num_not_resolved, risk_factor"
   ]
  },
  {
   "cell_type": "code",
   "execution_count": 6,
   "id": "swiss-sector",
   "metadata": {},
   "outputs": [
    {
     "name": "stdout",
     "output_type": "stream",
     "text": [
      "Destination:\t\t\t\tWaterloo\n",
      "Waterloo population:\t\t\t562,000\n",
      "Total number of cases:\t\t\t7,990\n",
      "Total number of fatal cases:\t\t180\n",
      "Total number of resolved cases:\t\t6,822\n",
      "Cases for the past 30 days:\t\t2,735\n",
      "Total number of non-resolved cases:\t988\n",
      "Risk factor:\t\t\t\t8.06%\n"
     ]
    }
   ],
   "source": [
    "how_many(city = \"Waterloo\")"
   ]
  },
  {
   "cell_type": "code",
   "execution_count": 7,
   "id": "neural-knife",
   "metadata": {},
   "outputs": [
    {
     "name": "stdout",
     "output_type": "stream",
     "text": [
      "Destination:\t\t\t\tSimcoe\n",
      "Simcoe population:\t\t\t13,922\n",
      "Total number of cases:\t\t\t1,139\n",
      "Total number of fatal cases:\t\t41\n",
      "Total number of resolved cases:\t\t968\n",
      "Cases for the past 30 days:\t\t325\n",
      "Total number of non-resolved cases:\t130\n",
      "Risk factor:\t\t\t\t12.48%\n"
     ]
    }
   ],
   "source": [
    "how_many(city = 'Simcoe')"
   ]
  },
  {
   "cell_type": "code",
   "execution_count": 8,
   "id": "fuzzy-arcade",
   "metadata": {},
   "outputs": [
    {
     "name": "stdout",
     "output_type": "stream",
     "text": [
      "Destination:\t\t\t\tToronto\n",
      "Toronto population:\t\t\t2,731,571\n",
      "Total number of cases:\t\t\t71,936\n",
      "Total number of fatal cases:\t\t2,117\n",
      "Total number of resolved cases:\t\t61,242\n",
      "Cases for the past 30 days:\t\t18,312\n",
      "Total number of non-resolved cases:\t8,577\n",
      "Risk factor:\t\t\t\t24.38%\n"
     ]
    }
   ],
   "source": [
    "how_many(city = \"Toronto\")"
   ]
  },
  {
   "cell_type": "code",
   "execution_count": 9,
   "id": "nonprofit-intensity",
   "metadata": {},
   "outputs": [
    {
     "name": "stdout",
     "output_type": "stream",
     "text": [
      "Destination:\t\t\t\tOttawa\n",
      "Ottawa population:\t\t\t934,243\n",
      "Total number of cases:\t\t\t11,976\n",
      "Total number of fatal cases:\t\t400\n",
      "Total number of resolved cases:\t\t10,213\n",
      "Cases for the past 30 days:\t\t2,585\n",
      "Total number of non-resolved cases:\t1,363\n",
      "Risk factor:\t\t\t\t7.92%\n"
     ]
    }
   ],
   "source": [
    "how_many(city = \"Ottawa\")"
   ]
  },
  {
   "cell_type": "code",
   "execution_count": 10,
   "id": "adult-grenada",
   "metadata": {},
   "outputs": [],
   "source": [
    "population_dict = {\n",
    "        'Windsor': 336000,\n",
    "        'Barrie': 145614,\n",
    "        'Port Hope': 16753,\n",
    "        'London': 5454141,\n",
    "        'Toronto': 2731571,\n",
    "        'Hamilton': 767000,\n",
    "        'Whitby': 128377,\n",
    "        'Thorold': 21663,\n",
    "        'Newmarket': 90000,\n",
    "        'Cornwall': 46589,\n",
    "        'Oakville': 193832,\n",
    "        'Kingston': 590940,\n",
    "        'Point Edward': 2037,\n",
    "        'Ottawa': 934243,\n",
    "        'Mississauga': 733083,\n",
    "        'Waterloo': 562000,\n",
    "        'Guelph': 120545,\n",
    "        'Stratford': 31500,\n",
    "        'St. Thomas': 38909,\n",
    "        'Chatham': 103700,\n",
    "        'Simcoe': 13922,\n",
    "        'Brantford': 115000,\n",
    "        'Thunder Bay': 121621,\n",
    "        'New Liskeard': 4402,\n",
    "        'Brockville': 21900,\n",
    "        'Peterborough': 202259,\n",
    "        'Timmins': 41788,\n",
    "        'North Bay': 51027,\n",
    "        'Sudbury': 161531,\n",
    "        'Belleville': 50716,\n",
    "        'Pembroke': 15260,\n",
    "        'Sault Ste. Marie': 75528,\n",
    "        'Owen Sound': 21341,\n",
    "        'Kenora': 15696}"
   ]
  },
  {
   "cell_type": "code",
   "execution_count": 11,
   "id": "governmental-smoke",
   "metadata": {
    "scrolled": false
   },
   "outputs": [],
   "source": [
    "# for i in population_dict.keys():\n",
    "#     how_many(city = i)\n",
    "#     print('==================')"
   ]
  },
  {
   "cell_type": "code",
   "execution_count": 12,
   "id": "about-limitation",
   "metadata": {},
   "outputs": [],
   "source": [
    "g = np.datetime64('2005-02-25')"
   ]
  },
  {
   "cell_type": "code",
   "execution_count": 13,
   "id": "transparent-accessory",
   "metadata": {},
   "outputs": [
    {
     "name": "stdout",
     "output_type": "stream",
     "text": [
      "2005-02-25\n"
     ]
    }
   ],
   "source": [
    "print( g)"
   ]
  },
  {
   "cell_type": "code",
   "execution_count": 14,
   "id": "prepared-collar",
   "metadata": {},
   "outputs": [],
   "source": [
    "def output_trends(dataframe=df,\n",
    "                  city='Toronto',\n",
    "#                   case_resolution='Resolved',\n",
    "                  trend_data=30,\n",
    "                  days_omitted=8):\n",
    "    '''\n",
    "    city -- one of the population_dict cities\n",
    "    case_resolution - \"Resolved\", \"Not Resolved\", \"Fatal\"\n",
    "    trend_data - how many days\n",
    "    days_omitted - how many days do we skip (from today)\n",
    "    '''\n",
    "   \n",
    "    data = df.copy()\n",
    "\n",
    "    # Days:\n",
    "    \n",
    "    end_date = date.today() - timedelta(days=days_omitted)\n",
    "    start_date = date.today() - timedelta(days=trend_data+days_omitted)\n",
    "\n",
    "    # Considering only specified range of dates:\n",
    "    df_current = data[data[\"Accurate_Episode_Date\"].isin(\n",
    "        pd.date_range(start_date, end_date))]\n",
    "    print(data.size)\n",
    "    print(df_current.size)\n",
    "\n",
    "    # Output df:\n",
    "    df_out = df_current[df_current['Reporting_PHU_City'] == city]\n",
    "    out = df_out.groupby('Accurate_Episode_Date').nunique()\n",
    "    out = out.sort_values(by=['Accurate_Episode_Date'])['Row_ID']\n",
    "\n",
    "    return out"
   ]
  },
  {
   "cell_type": "code",
   "execution_count": 15,
   "id": "genuine-broadcasting",
   "metadata": {},
   "outputs": [],
   "source": [
    "def output_trends(dataframe=df,\n",
    "                  city='Toronto',\n",
    "#                   case_resolution='Resolved',\n",
    "                  trend_data=60,\n",
    "                  days_omitted=8):\n",
    "    '''\n",
    "    city -- one of the population_dict cities\n",
    "    case_resolution - \"Resolved\", \"Not Resolved\", \"Fatal\"\n",
    "    trend_data - how many days\n",
    "    days_omitted - how many days do we skip (from today)\n",
    "    '''\n",
    "   \n",
    "    data = df.copy()\n",
    "\n",
    "    # Days:\n",
    "    \n",
    "    end_date = date.today() - timedelta(days=days_omitted)\n",
    "    start_date = date.today() - timedelta(days=trend_data+days_omitted)\n",
    "\n",
    "    # Considering only specified range of dates:\n",
    "    df_current = data[data[\"Accurate_Episode_Date\"].isin(\n",
    "        pd.date_range(start_date, end_date))]\n",
    "\n",
    "    # Output df:\n",
    "    df_out = df_current[df_current['Reporting_PHU_City'] == city]\n",
    "    out = df_out.groupby('Accurate_Episode_Date').nunique()\n",
    "    out = out.sort_values(by=['Accurate_Episode_Date'])['Row_ID']\n",
    "    \n",
    "    #Linear Regression\n",
    "    value = out.to_numpy()\n",
    "    X = np.array(list(range(len(value)))).reshape(-1, 1)\n",
    "    model = LinearRegression().fit(X, value)\n",
    "    prediction = \"INCR\" if model.coef_ > 0 else \"DECR\"\n",
    "    \n",
    "    #Dates:\n",
    "    dates = out.index\n",
    "    #Values:\n",
    "    values = savgol_filter(out.to_numpy(), 7,2)\n",
    "    #Linear regression predictions:\n",
    "    lin_reg_pred = [model.coef_*x + model.intercept_ for x in range(len(value))]\n",
    "    \n",
    "    return dates, values, lin_reg_pred, model.coef_"
   ]
  },
  {
   "cell_type": "code",
   "execution_count": 16,
   "id": "experienced-south",
   "metadata": {},
   "outputs": [],
   "source": [
    "def how_many(dataframe=df,\n",
    "             city='Toronto',\n",
    "             trend_data=30,\n",
    "             case_resolution='Resolved',\n",
    "             means_of_transport = 'Bus',\n",
    "             days_omitted=0):\n",
    "    '''\n",
    "    means_of_transport = 'Bus'+10%, 'Flight'+15%, 'Car'+0%\n",
    "    '''\n",
    "    population_dict = {\n",
    "        'Windsor': 336000,\n",
    "        'Barrie': 145614,\n",
    "        'Port Hope': 16753,\n",
    "        'London': 5454141,\n",
    "        'Toronto': 2731571,\n",
    "        'Hamilton': 767000,\n",
    "        'Whitby': 128377,\n",
    "        'Thorold': 21663,\n",
    "        'Newmarket': 90000,\n",
    "        'Cornwall': 46589,\n",
    "        'Oakville': 193832,\n",
    "        'Kingston': 590940,\n",
    "        'Point Edward': 2037,\n",
    "        'Ottawa': 934243,\n",
    "        'Mississauga': 733083,\n",
    "        'Waterloo': 562000,\n",
    "        'Guelph': 120545,\n",
    "        'Stratford': 31500,\n",
    "        'St. Thomas': 38909,\n",
    "        'Chatham': 103700,\n",
    "        'Simcoe': 13922,\n",
    "        'Brantford': 115000,\n",
    "        'Thunder Bay': 121621,\n",
    "        'New Liskeard': 4402,\n",
    "        'Brockville': 21900,\n",
    "        'Peterborough': 202259,\n",
    "        'Timmins': 41788,\n",
    "        'North Bay': 51027,\n",
    "        'Sudbury': 161531,\n",
    "        'Belleville': 50716,\n",
    "        'Pembroke': 15260,\n",
    "        'Sault Ste. Marie': 75528,\n",
    "        'Owen Sound': 21341,\n",
    "        'Kenora': 15696}\n",
    "\n",
    "    data = df.copy()\n",
    "\n",
    "    out = data[data['Reporting_PHU_City'] == city]\n",
    "    out.keys()\n",
    "\n",
    "    # Fatal:\n",
    "    out_fatal = out[out['Outcome1'] == 'Fatal']\n",
    "    out_fatal = out_fatal.groupby('Accurate_Episode_Date').nunique()\n",
    "    num_fatal = np.sum(out_fatal['Row_ID'].to_numpy())\n",
    "\n",
    "    # Resolved:\n",
    "    out_resolved = out[out['Outcome1'] == 'Resolved']\n",
    "    out_resolved = out_resolved.groupby('Accurate_Episode_Date').nunique()\n",
    "    num_resolved = np.sum(out_resolved['Row_ID'].to_numpy())\n",
    "\n",
    "    # Not Resolved:\n",
    "    out_not_resolved = out[out['Outcome1'] == 'Not Resolved']\n",
    "    out_not_resolved = out_not_resolved.groupby(\n",
    "        'Accurate_Episode_Date').nunique()\n",
    "    num_not_resolved = np.sum(out_not_resolved['Row_ID'].to_numpy())\n",
    "\n",
    "    # Got COVID total:\n",
    "    out = out.groupby('Accurate_Episode_Date').nunique()\n",
    "    num_sick = np.sum(out['Row_ID'].to_numpy())\n",
    "\n",
    "    # ---------------------------------------------------------------\n",
    "    # Days:\n",
    "    end_date = date.today() - timedelta(days=days_omitted)\n",
    "    start_date = date.today() - timedelta(days=trend_data+days_omitted)\n",
    "\n",
    "    # Considering only specified range of dates:\n",
    "    df_current = data[data[\"Accurate_Episode_Date\"].isin(\n",
    "        pd.date_range(start_date, end_date))]\n",
    "\n",
    "    # Output df:\n",
    "    df_out = df_current[df_current['Reporting_PHU_City'] == city]\n",
    "\n",
    "    out1 = df_out.groupby('Accurate_Episode_Date').nunique()\n",
    "    num_sick_past = np.sum(out1['Row_ID'].to_numpy())\n",
    "    \n",
    "    \n",
    "    _, _, _, coef = output_trends(city = city)\n",
    "    \n",
    "    # Risk factor:\n",
    "    risk_factor = 100*(num_not_resolved*np.power(population_dict[city], 1/3)+coef[0]*30000)/(1.8*(population_dict[city]))\n",
    "    \n",
    "    if risk_factor >= 100:\n",
    "        risk_factor = 99.99\n",
    "    elif risk_factor <= 0:\n",
    "        risk_factor = 1.00\n",
    "    #     risk_factor = 100*(num_not_resolved*np.power(population_dict[city], 1/3))/(1.8*(population_dict[city]))\n",
    "    \n",
    "    if means_of_transport == 'Bus':\n",
    "        risk_factor+=10\n",
    "        if risk_factor >= 100:\n",
    "            risk_factor = 99.99\n",
    "    elif means_of_transport == 'Flight':\n",
    "        risk_factor+=15\n",
    "        if risk_factor >= 100:\n",
    "            risk_factor = 99.99    \n",
    "        \n",
    "        \n",
    "    \n",
    "    # Print info:\n",
    "\n",
    "    print(\"Destination:\\t\\t\\t\\t{}\".format(city))\n",
    "    print(\"{} population:\\t\\t\\t{:,}\".format(city, population_dict[city]))\n",
    "    print(\"Total number of cases:\\t\\t\\t{:,}\".format(num_sick))\n",
    "    print(\"Total number of fatal cases:\\t\\t{:,}\".format(num_fatal))\n",
    "    print(\"Total number of resolved cases:\\t\\t{:,}\".format(num_resolved))\n",
    "    print(\"Cases for the past {} days:\\t\\t{:,}\".format(\n",
    "        trend_data, num_sick_past))\n",
    "    print(\n",
    "        \"Total number of non-resolved cases:\\t{:,}\".format(num_not_resolved))\n",
    "    print(\"Risk factor:\\t\\t\\t\\t{:.2f}%\".format(risk_factor))\n",
    "    \n",
    "#     return population_dict[city], num_sick, num_fatal, num_resolved, num_sick_past, num_not_resolved, risk_factor"
   ]
  },
  {
   "cell_type": "code",
   "execution_count": 17,
   "id": "reduced-infrastructure",
   "metadata": {},
   "outputs": [],
   "source": [
    "    population_dict = {\n",
    "        'Windsor': 336000,\n",
    "        'Barrie': 145614,\n",
    "        'Port Hope': 16753,\n",
    "        'London': 5454141,\n",
    "        'Toronto': 2731571,\n",
    "        'Hamilton': 767000,\n",
    "        'Whitby': 128377,\n",
    "        'Thorold': 21663,\n",
    "        'Newmarket': 90000,\n",
    "        'Cornwall': 46589,\n",
    "        'Oakville': 193832,\n",
    "        'Kingston': 590940,\n",
    "        'Point Edward': 2037,\n",
    "        'Ottawa': 934243,\n",
    "        'Mississauga': 733083,\n",
    "        'Waterloo': 562000,\n",
    "        'Guelph': 120545,\n",
    "        'Stratford': 31500,\n",
    "        'St. Thomas': 38909,\n",
    "        'Chatham': 103700,\n",
    "        'Simcoe': 13922,\n",
    "        'Brantford': 115000,\n",
    "        'Thunder Bay': 121621,\n",
    "        'New Liskeard': 4402,\n",
    "        'Brockville': 21900,\n",
    "        'Peterborough': 202259,\n",
    "        'Timmins': 41788,\n",
    "        'North Bay': 51027,\n",
    "        'Sudbury': 161531,\n",
    "        'Belleville': 50716,\n",
    "        'Pembroke': 15260,\n",
    "        'Sault Ste. Marie': 75528,\n",
    "        'Owen Sound': 21341,\n",
    "        'Kenora': 15696}"
   ]
  },
  {
   "cell_type": "code",
   "execution_count": 18,
   "id": "speaking-malawi",
   "metadata": {},
   "outputs": [
    {
     "data": {
      "text/plain": [
       "dict_keys(['Windsor', 'Barrie', 'Port Hope', 'London', 'Toronto', 'Hamilton', 'Whitby', 'Thorold', 'Newmarket', 'Cornwall', 'Oakville', 'Kingston', 'Point Edward', 'Ottawa', 'Mississauga', 'Waterloo', 'Guelph', 'Stratford', 'St. Thomas', 'Chatham', 'Simcoe', 'Brantford', 'Thunder Bay', 'New Liskeard', 'Brockville', 'Peterborough', 'Timmins', 'North Bay', 'Sudbury', 'Belleville', 'Pembroke', 'Sault Ste. Marie', 'Owen Sound', 'Kenora'])"
      ]
     },
     "execution_count": 18,
     "metadata": {},
     "output_type": "execute_result"
    }
   ],
   "source": [
    "population_dict.keys()"
   ]
  },
  {
   "cell_type": "code",
   "execution_count": 34,
   "id": "successful-knight",
   "metadata": {},
   "outputs": [
    {
     "data": {
      "image/png": "[encoded data removed]",
      "text/plain": [
       "<Figure size 1080x648 with 1 Axes>"
      ]
     },
     "metadata": {
      "needs_background": "light"
     },
     "output_type": "display_data"
    },
    {
     "name": "stdout",
     "output_type": "stream",
     "text": [
      "Destination:\t\t\t\tOttawa\n",
      "Ottawa population:\t\t\t934,243\n",
      "Total number of cases:\t\t\t11,976\n",
      "Total number of fatal cases:\t\t400\n",
      "Total number of resolved cases:\t\t10,213\n",
      "Cases for the past 30 days:\t\t2,585\n",
      "Total number of non-resolved cases:\t1,363\n",
      "Risk factor:\t\t\t\t10.53%\n"
     ]
    }
   ],
   "source": [
    "city_name = 'Ottawa'\n",
    "transport = 'Car'\n",
    "\n",
    "dates, values, lin_reg_pred, coef = output_trends(city = 'Hamilton')\n",
    "\n",
    "plt.figure(figsize=(15,9))\n",
    "plt.plot(dates,values, linewidth = 4, label = 'Cases')\n",
    "plt.plot(dates,lin_reg_pred, linewidth = 4, label ='Linear approximation')\n",
    "plt.xticks(rotation=45)\n",
    "plt.legend()\n",
    "plt.title(\"The overall number of cases in {} in the past 30 days\".format(city_name))\n",
    "plt.grid()\n",
    "plt.show()\n",
    "\n",
    "how_many(city=city_name, means_of_transport = transport)"
   ]
  },
  {
   "cell_type": "code",
   "execution_count": null,
   "id": "contained-youth",
   "metadata": {},
   "outputs": [],
   "source": []
  }
 ],
 "metadata": {
  "kernelspec": {
   "display_name": "Python 3",
   "language": "python",
   "name": "python3"
  },
  "language_info": {
   "codemirror_mode": {
    "name": "ipython",
    "version": 3
   },
   "file_extension": ".py",
   "mimetype": "text/x-python",
   "name": "python",
   "nbconvert_exporter": "python",
   "pygments_lexer": "ipython3",
   "version": "3.6.8"
  },
  "toc": {
   "base_numbering": 1,
   "nav_menu": {},
   "number_sections": true,
   "sideBar": true,
   "skip_h1_title": false,
   "title_cell": "Table of Contents",
   "title_sidebar": "Contents",
   "toc_cell": false,
   "toc_position": {},
   "toc_section_display": true,
   "toc_window_display": false
  },
  "varInspector": {
   "cols": {
    "lenName": 16,
    "lenType": 16,
    "lenVar": 40
   },
   "kernels_config": {
    "python": {
     "delete_cmd_postfix": "",
     "delete_cmd_prefix": "del ",
     "library": "var_list.py",
     "varRefreshCmd": "print(var_dic_list())"
    },
    "r": {
     "delete_cmd_postfix": ") ",
     "delete_cmd_prefix": "rm(",
     "library": "var_list.r",
     "varRefreshCmd": "cat(var_dic_list()) "
    }
   },
   "types_to_exclude": [
    "module",
    "function",
    "builtin_function_or_method",
    "instance",
    "_Feature"
   ],
   "window_display": false
  }
 },
 "nbformat": 4,
 "nbformat_minor": 5
}
